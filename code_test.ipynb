{
 "cells": [
  {
   "cell_type": "code",
   "execution_count": 11,
   "id": "c262f13f",
   "metadata": {
    "ExecuteTime": {
     "end_time": "2022-01-08T17:42:00.773745Z",
     "start_time": "2022-01-08T17:42:00.755709Z"
    }
   },
   "outputs": [
    {
     "data": {
      "text/plain": [
       "array([[1, 2, 3],\n",
       "       [2, 2, 3]])"
      ]
     },
     "execution_count": 11,
     "metadata": {},
     "output_type": "execute_result"
    }
   ],
   "source": [
    "import numpy as np\n",
    "a=np.array([[1,2,3],[2,2,3]])\n",
    "for _ in range(0):\n",
    "    a=np.row_stack((a[0],a))\n",
    "a"
   ]
  },
  {
   "cell_type": "code",
   "execution_count": 1,
   "id": "7d8b43ce",
   "metadata": {
    "ExecuteTime": {
     "end_time": "2022-01-08T18:51:10.412231Z",
     "start_time": "2022-01-08T18:51:10.402223Z"
    }
   },
   "outputs": [
    {
     "data": {
      "text/plain": [
       "[1, 2]"
      ]
     },
     "execution_count": 1,
     "metadata": {},
     "output_type": "execute_result"
    }
   ],
   "source": [
    "[1]+[2]"
   ]
  },
  {
   "cell_type": "code",
   "execution_count": 1,
   "id": "59573cad",
   "metadata": {
    "ExecuteTime": {
     "end_time": "2022-01-09T17:16:11.335872Z",
     "start_time": "2022-01-09T17:16:11.320522Z"
    }
   },
   "outputs": [
    {
     "data": {
      "text/plain": [
       "array([0., 0., 0., 0., 0.])"
      ]
     },
     "execution_count": 1,
     "metadata": {},
     "output_type": "execute_result"
    }
   ],
   "source": [
    "import numpy as np\n",
    "a = np.zeros(5)\n",
    "a"
   ]
  },
  {
   "cell_type": "code",
   "execution_count": 3,
   "id": "4a1016e8",
   "metadata": {
    "ExecuteTime": {
     "end_time": "2022-01-09T17:22:40.516577Z",
     "start_time": "2022-01-09T17:22:40.504556Z"
    }
   },
   "outputs": [
    {
     "data": {
      "text/plain": [
       "1"
      ]
     },
     "execution_count": 3,
     "metadata": {},
     "output_type": "execute_result"
    }
   ],
   "source": [
    "a=7\n",
    "a%2-"
   ]
  },
  {
   "cell_type": "code",
   "execution_count": null,
   "id": "126c1df6",
   "metadata": {},
   "outputs": [],
   "source": []
  }
 ],
 "metadata": {
  "kernelspec": {
   "display_name": "stgm",
   "language": "python",
   "name": "stgm"
  },
  "language_info": {
   "codemirror_mode": {
    "name": "ipython",
    "version": 3
   },
   "file_extension": ".py",
   "mimetype": "text/x-python",
   "name": "python",
   "nbconvert_exporter": "python",
   "pygments_lexer": "ipython3",
   "version": "3.7.0"
  },
  "toc": {
   "base_numbering": 1,
   "nav_menu": {},
   "number_sections": true,
   "sideBar": true,
   "skip_h1_title": false,
   "title_cell": "Table of Contents",
   "title_sidebar": "Contents",
   "toc_cell": false,
   "toc_position": {},
   "toc_section_display": true,
   "toc_window_display": false
  }
 },
 "nbformat": 4,
 "nbformat_minor": 5
}
