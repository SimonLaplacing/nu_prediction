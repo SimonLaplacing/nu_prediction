{
 "cells": [
  {
   "cell_type": "code",
   "execution_count": 11,
   "id": "c262f13f",
   "metadata": {
    "ExecuteTime": {
     "end_time": "2022-01-08T17:42:00.773745Z",
     "start_time": "2022-01-08T17:42:00.755709Z"
    }
   },
   "outputs": [
    {
     "data": {
      "text/plain": [
       "array([[1, 2, 3],\n",
       "       [2, 2, 3]])"
      ]
     },
     "execution_count": 11,
     "metadata": {},
     "output_type": "execute_result"
    }
   ],
   "source": [
    "import numpy as np\n",
    "a=np.array([[1,2,3],[2,2,3]])\n",
    "for _ in range(0):\n",
    "    a=np.row_stack((a[0],a))\n",
    "a"
   ]
  },
  {
   "cell_type": "code",
   "execution_count": 1,
   "id": "7d8b43ce",
   "metadata": {
    "ExecuteTime": {
     "end_time": "2022-01-08T18:51:10.412231Z",
     "start_time": "2022-01-08T18:51:10.402223Z"
    }
   },
   "outputs": [
    {
     "data": {
      "text/plain": [
       "[1, 2]"
      ]
     },
     "execution_count": 1,
     "metadata": {},
     "output_type": "execute_result"
    }
   ],
   "source": [
    "[1]+[2]"
   ]
  },
  {
   "cell_type": "code",
   "execution_count": 7,
   "id": "59573cad",
   "metadata": {
    "ExecuteTime": {
     "end_time": "2022-01-10T03:22:35.279409Z",
     "start_time": "2022-01-10T03:22:35.269335Z"
    }
   },
   "outputs": [
    {
     "data": {
      "text/plain": [
       "array([0., 0., 0., 1., 0.])"
      ]
     },
     "execution_count": 7,
     "metadata": {},
     "output_type": "execute_result"
    }
   ],
   "source": [
    "import numpy as np\n",
    "num_classes=5\n",
    "def get_label(cur_yaw, future_yaw):\n",
    "        phi = np.pi / num_classes\n",
    "        label = np.zeros(num_classes)\n",
    "        diff = future_yaw - cur_yaw\n",
    "        for k in range(num_classes):\n",
    "            if np.pi/2-(k+1)*phi<=diff<=np.pi/2-k*phi:\n",
    "                label[k]=1\n",
    "        return label\n",
    "cur_yaw=1.3\n",
    "future_yaw=0.8\n",
    "a=get_label(1.3,0.8)\n",
    "a"
   ]
  },
  {
   "cell_type": "code",
   "execution_count": 3,
   "id": "4a1016e8",
   "metadata": {
    "ExecuteTime": {
     "end_time": "2022-01-09T17:22:40.516577Z",
     "start_time": "2022-01-09T17:22:40.504556Z"
    }
   },
   "outputs": [
    {
     "data": {
      "text/plain": [
       "1"
      ]
     },
     "execution_count": 3,
     "metadata": {},
     "output_type": "execute_result"
    }
   ],
   "source": [
    "a=7\n",
    "a%2-"
   ]
  },
  {
   "cell_type": "code",
   "execution_count": null,
   "id": "126c1df6",
   "metadata": {},
   "outputs": [],
   "source": []
  }
 ],
 "metadata": {
  "kernelspec": {
   "display_name": "stgm",
   "language": "python",
   "name": "stgm"
  },
  "language_info": {
   "codemirror_mode": {
    "name": "ipython",
    "version": 3
   },
   "file_extension": ".py",
   "mimetype": "text/x-python",
   "name": "python",
   "nbconvert_exporter": "python",
   "pygments_lexer": "ipython3",
   "version": "3.7.0"
  },
  "toc": {
   "base_numbering": 1,
   "nav_menu": {},
   "number_sections": true,
   "sideBar": true,
   "skip_h1_title": false,
   "title_cell": "Table of Contents",
   "title_sidebar": "Contents",
   "toc_cell": false,
   "toc_position": {},
   "toc_section_display": true,
   "toc_window_display": false
  }
 },
 "nbformat": 4,
 "nbformat_minor": 5
}
